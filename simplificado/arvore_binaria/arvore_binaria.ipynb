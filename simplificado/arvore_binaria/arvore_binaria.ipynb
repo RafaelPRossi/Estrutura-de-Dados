{
 "cells": [
  {
   "cell_type": "code",
   "execution_count": 13,
   "id": "0b295b24",
   "metadata": {},
   "outputs": [],
   "source": [
    "NOME = \"c_arvore_binaria_main.c\""
   ]
  },
  {
   "cell_type": "code",
   "execution_count": 14,
   "id": "bf98071e",
   "metadata": {},
   "outputs": [
    {
     "name": "stdout",
     "output_type": "stream",
     "text": [
      "Overwriting c_arvore_binaria_main.c\n"
     ]
    }
   ],
   "source": [
    "%%file {NOME}\n",
    "#include <stdio.h>\n",
    "#include <stdlib.h>"
   ]
  },
  {
   "cell_type": "code",
   "execution_count": 15,
   "id": "0ebc27c8",
   "metadata": {},
   "outputs": [
    {
     "name": "stdout",
     "output_type": "stream",
     "text": [
      "Appending to c_arvore_binaria_main.c\n"
     ]
    }
   ],
   "source": [
    "%%file -a {NOME}\n",
    "\n",
    "typedef struct arvore\n",
    "{\n",
    "    int valor;\n",
    "    struct arvore *esquerda;\n",
    "    struct arvore *direita;\n",
    "}\n",
    "arvore;\n",
    "\n",
    "arvore *corrente, *raiz, *auxiliar;"
   ]
  },
  {
   "cell_type": "code",
   "execution_count": 16,
   "id": "6291a87d",
   "metadata": {},
   "outputs": [
    {
     "name": "stdout",
     "output_type": "stream",
     "text": [
      "Appending to c_arvore_binaria_main.c\n"
     ]
    }
   ],
   "source": [
    "%%file -a {NOME}\n",
    "\n",
    "void insertTree()\n",
    "{\n",
    "    corrente = (arvore *) malloc(sizeof(arvore));\n",
    "    corrente->esquerda = NULL;\n",
    "    corrente->direita  = NULL;\n",
    "\n",
    "    printf(\"Valor: \");\n",
    "    scanf(\"%i\", &corrente->valor);\n",
    "\n",
    "    if(raiz == NULL)\n",
    "    {\n",
    "        raiz = corrente;\n",
    "    }\n",
    "    else\n",
    "    {\n",
    "        auxiliar = raiz;\n",
    "        while(auxiliar != NULL)\n",
    "        {\n",
    "            while(corrente->valor == auxiliar->valor)\n",
    "            {\n",
    "                printf(\"Chaves iguais!, Novo Valor: \");\n",
    "                scanf(\"%i\", &corrente->valor);\n",
    "                auxiliar = raiz;\n",
    "            }\n",
    "\n",
    "            if(corrente->valor > auxiliar->valor)\n",
    "            {   \n",
    "                if(auxiliar->direita == NULL)\n",
    "                {\n",
    "                    auxiliar->direita = corrente;\n",
    "                    printf(\"add a direita\\n\");\n",
    "                    break;\n",
    "                }\n",
    "                auxiliar = auxiliar->direita;\n",
    "                printf(\"avancou a direita\\n\");\n",
    "                continue;\n",
    "            }\n",
    "            else\n",
    "            {\n",
    "                if(auxiliar->esquerda == NULL)\n",
    "                {\n",
    "                    auxiliar->esquerda = corrente;\n",
    "                    printf(\"add a esquerda\\n\");\n",
    "                    break;\n",
    "                }\n",
    "                auxiliar = auxiliar->esquerda;\n",
    "                printf(\"avancou a esquerda\\n\");\n",
    "                continue;\n",
    "            }\n",
    "        }\n",
    "    }\n",
    "}"
   ]
  },
  {
   "cell_type": "code",
   "execution_count": 17,
   "id": "ca27411f",
   "metadata": {},
   "outputs": [
    {
     "name": "stdout",
     "output_type": "stream",
     "text": [
      "Appending to c_arvore_binaria_main.c\n"
     ]
    }
   ],
   "source": [
    "%%file -a {NOME}\n",
    "\n",
    "int main()\n",
    "{\n",
    "    int opc;\n",
    "    do\n",
    "    {\n",
    "        system(\"pause\");\n",
    "        system(\"cls\");\n",
    "\n",
    "        printf(\"INSERIR [1]\\n\");\n",
    "        printf(\"EXIBIR  [2]\\n\");\n",
    "        printf(\"REMOVER [3]\\n\");\n",
    "        printf(\"Opcao  - \");\n",
    "        scanf(\"%i\", &opc);\n",
    "\n",
    "        switch(opc)\n",
    "        {\n",
    "            case 1:\n",
    "                insertTree();\n",
    "                break;\n",
    "            case 2:\n",
    "                break;\n",
    "            case 3:\n",
    "                break;\n",
    "            case 4:\n",
    "                break;\n",
    "            default:\n",
    "                printf(\"Opcao invalida!\");\n",
    "        }\n",
    "    }\n",
    "    while(opc != 4);\n",
    "\n",
    "    return 0;\n",
    "}"
   ]
  },
  {
   "cell_type": "code",
   "execution_count": 18,
   "id": "407046c6",
   "metadata": {},
   "outputs": [
    {
     "name": "stdout",
     "output_type": "stream",
     "text": [
      "Microsoft Windows [vers�o 10.0.26100.4061]\n",
      "(c) Microsoft Corporation. Todos os direitos reservados.\n",
      "\n",
      "(C:\\Users\\Rafa\\anaconda3) c:\\Users\\Rafa\\Desktop\\Estudos\\Fatec\\3� semestre\\estrutura de dados\\P2\\arvore_binaria>gcc c_arvore_binaria_main.c -g -o c_arvore_binaria_main\n"
     ]
    },
    {
     "name": "stdout",
     "output_type": "stream",
     "text": [
      "\n",
      "(C:\\Users\\Rafa\\anaconda3) c:\\Users\\Rafa\\Desktop\\Estudos\\Fatec\\3� semestre\\estrutura de dados\\P2\\arvore_binaria>"
     ]
    }
   ],
   "source": [
    "%%cmd\n",
    "gcc c_arvore_binaria_main.c -g -o c_arvore_binaria_main"
   ]
  }
 ],
 "metadata": {
  "kernelspec": {
   "display_name": "Python 3",
   "language": "python",
   "name": "python3"
  },
  "language_info": {
   "codemirror_mode": {
    "name": "ipython",
    "version": 3
   },
   "file_extension": ".py",
   "mimetype": "text/x-python",
   "name": "python",
   "nbconvert_exporter": "python",
   "pygments_lexer": "ipython3",
   "version": "3.12.7"
  }
 },
 "nbformat": 4,
 "nbformat_minor": 5
}
