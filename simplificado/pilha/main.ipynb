{
 "cells": [
  {
   "cell_type": "code",
   "execution_count": 115,
   "id": "bdf2079b",
   "metadata": {},
   "outputs": [],
   "source": [
    "NOME = \"c_pilha_main.c\""
   ]
  },
  {
   "cell_type": "code",
   "execution_count": 116,
   "id": "bbfd2abc",
   "metadata": {},
   "outputs": [
    {
     "name": "stdout",
     "output_type": "stream",
     "text": [
      "Overwriting c_pilha_main.c\n"
     ]
    }
   ],
   "source": [
    "%%file {NOME}\n",
    "#include <stdio.h>\n",
    "#include <stdlib.h>"
   ]
  },
  {
   "cell_type": "code",
   "execution_count": 117,
   "id": "9adf1c64",
   "metadata": {},
   "outputs": [
    {
     "name": "stdout",
     "output_type": "stream",
     "text": [
      "Appending to c_pilha_main.c\n"
     ]
    }
   ],
   "source": [
    "%%file -a {NOME}\n",
    "\n",
    "typedef struct pilha\n",
    "{\n",
    "    struct pilha *acima;\n",
    "    int RA;\n",
    "    char nome[20];\n",
    "    struct pilha *abaixo;\n",
    "}\n",
    "pilha;\n",
    "\n",
    "pilha *topo, *auxiliar;"
   ]
  },
  {
   "cell_type": "code",
   "execution_count": 118,
   "id": "afc7d3e0",
   "metadata": {},
   "outputs": [
    {
     "name": "stdout",
     "output_type": "stream",
     "text": [
      "Appending to c_pilha_main.c\n"
     ]
    }
   ],
   "source": [
    "%%file -a {NOME}\n",
    "\n",
    "void push()\n",
    "{\n",
    "    topo = (pilha *) malloc(sizeof(pilha));\n",
    "    topo->acima = NULL;\n",
    "    topo->abaixo = NULL;\n",
    "\n",
    "    printf(\"RA: \");\n",
    "    scanf(\"%i\", &topo->RA);\n",
    "    \n",
    "    printf(\"Nome: \");\n",
    "    scanf(\"%s\", &topo->nome);\n",
    "\n",
    "    if(auxiliar != NULL)\n",
    "    {\n",
    "        auxiliar->acima = topo;\n",
    "        topo->abaixo = auxiliar;\n",
    "    }\n",
    "    auxiliar = topo;\n",
    "}"
   ]
  },
  {
   "cell_type": "code",
   "execution_count": 119,
   "id": "ee4a8e50",
   "metadata": {},
   "outputs": [
    {
     "name": "stdout",
     "output_type": "stream",
     "text": [
      "Appending to c_pilha_main.c\n"
     ]
    }
   ],
   "source": [
    "%%file -a {NOME}\n",
    "\n",
    "void top()\n",
    "{\n",
    "    if(auxiliar == NULL)\n",
    "    {\n",
    "        return;\n",
    "    }\n",
    "\n",
    "    printf(\"%i - %s\\n\", topo->RA, topo->nome);\n",
    "}"
   ]
  },
  {
   "cell_type": "code",
   "execution_count": null,
   "id": "dca8d5e7",
   "metadata": {},
   "outputs": [
    {
     "name": "stdout",
     "output_type": "stream",
     "text": [
      "Appending to c_pilha_main.c\n"
     ]
    }
   ],
   "source": [
    "%%file -a {NOME}\n",
    "\n",
    "void pop()\n",
    "{\n",
    "    if(auxiliar == NULL)\n",
    "    {\n",
    "        return;\n",
    "    }\n",
    "\n",
    "    printf(\"RA removido: %i \", topo->RA);\n",
    "\n",
    "    if(topo->abaixo == NULL)\n",
    "    {\n",
    "        free(topo);\n",
    "        topo = NULL;\n",
    "        auxiliar = NULL;\n",
    "    }\n",
    "    else\n",
    "    {\n",
    "        auxiliar = topo->abaixo;\n",
    "        auxiliar->acima = NULL;   \n",
    "        free(topo);\n",
    "        topo = auxiliar;\n",
    "    }\n",
    "}"
   ]
  },
  {
   "cell_type": "code",
   "execution_count": 121,
   "id": "7e6fd224",
   "metadata": {},
   "outputs": [
    {
     "name": "stdout",
     "output_type": "stream",
     "text": [
      "Appending to c_pilha_main.c\n"
     ]
    }
   ],
   "source": [
    "%%file -a {NOME}\n",
    "\n",
    "int main()\n",
    "{\n",
    "    int opc;\n",
    "\n",
    "    do\n",
    "    {\n",
    "        system(\"pause\");\n",
    "        system(\"cls\");\n",
    "        \n",
    "        printf(\"PUSH [1]\\n\");\n",
    "        printf(\"TOP  [2]\\n\");\n",
    "        printf(\"POP  [3]\\n\");\n",
    "        printf(\"SAIR [4]\\n\");\n",
    "        printf(\"Opc - \");\n",
    "        scanf(\"%i\", &opc);\n",
    "\n",
    "        switch(opc)\n",
    "        {\n",
    "            case 1:\n",
    "                push();\n",
    "                break;\n",
    "            case 2:\n",
    "                top();\n",
    "                break;\n",
    "            case 3:\n",
    "                pop();\n",
    "                break;\n",
    "            case 4:\n",
    "                return 0;\n",
    "            default:\n",
    "                printf(\"\\nOpcao invalida!\\n\");\n",
    "        }\n",
    "    }\n",
    "    while(opc != 4);\n",
    "}"
   ]
  },
  {
   "cell_type": "code",
   "execution_count": 122,
   "id": "4dabe764",
   "metadata": {},
   "outputs": [
    {
     "name": "stdout",
     "output_type": "stream",
     "text": [
      "Microsoft Windows [vers�o 10.0.26100.4061]\n",
      "(c) Microsoft Corporation. Todos os direitos reservados.\n",
      "\n",
      "(C:\\Users\\Rafa\\anaconda3) c:\\Users\\Rafa\\Desktop\\Estudos\\Fatec\\3� semestre\\estrutura de dados\\P2\\pilha>gcc c_pilha_main.c -g -o c_pilha_main\n",
      "\n",
      "(C:\\Users\\Rafa\\anaconda3) c:\\Users\\Rafa\\Desktop\\Estudos\\Fatec\\3� semestre\\estrutura de dados\\P2\\pilha>"
     ]
    }
   ],
   "source": [
    "%%cmd\n",
    "gcc c_pilha_main.c -g -o c_pilha_main"
   ]
  }
 ],
 "metadata": {
  "kernelspec": {
   "display_name": "Python 3",
   "language": "python",
   "name": "python3"
  },
  "language_info": {
   "codemirror_mode": {
    "name": "ipython",
    "version": 3
   },
   "file_extension": ".py",
   "mimetype": "text/x-python",
   "name": "python",
   "nbconvert_exporter": "python",
   "pygments_lexer": "ipython3",
   "version": "3.12.7"
  }
 },
 "nbformat": 4,
 "nbformat_minor": 5
}
