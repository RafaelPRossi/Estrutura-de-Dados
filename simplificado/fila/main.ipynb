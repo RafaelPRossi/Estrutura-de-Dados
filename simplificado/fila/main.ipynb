{
 "cells": [
  {
   "cell_type": "code",
   "execution_count": 89,
   "id": "e6b26d47",
   "metadata": {},
   "outputs": [],
   "source": [
    "NOME = \"c_fila_main.c\""
   ]
  },
  {
   "cell_type": "code",
   "execution_count": null,
   "id": "ea04fbe1",
   "metadata": {},
   "outputs": [],
   "source": [
    "%%file {NOME}\n",
    "#include <stdio.h>\n",
    "#include <stdlib.h>\n",
    "#include <string.h>"
   ]
  },
  {
   "cell_type": "code",
   "execution_count": null,
   "id": "ebd85597",
   "metadata": {},
   "outputs": [
    {
     "name": "stdout",
     "output_type": "stream",
     "text": [
      "Overwriting c_fila_main.c\n"
     ]
    }
   ],
   "source": [
    "%%file -a {NOME}\n",
    "\n",
    "typedef struct fila\n",
    "{\n",
    "    struct fila *proximo;\n",
    "    int RA;\n",
    "    char nome[20];\n",
    "    struct fila *anterior;\n",
    "}\n",
    "fila;\n",
    "\n",
    "fila *corrente, *inicio, *fim, *auxiliar;"
   ]
  },
  {
   "cell_type": "code",
   "execution_count": 91,
   "id": "acb89f0b",
   "metadata": {},
   "outputs": [
    {
     "name": "stdout",
     "output_type": "stream",
     "text": [
      "Appending to c_fila_main.c\n"
     ]
    }
   ],
   "source": [
    "%%file -a {NOME}\n",
    "\n",
    "int limite = 5;\n",
    "int c = 0;\n",
    "\n",
    "void enqueue()\n",
    "{\n",
    "    if(c > limite)\n",
    "    {\n",
    "        return;\n",
    "    }\n",
    "\n",
    "    corrente = (fila *) malloc(sizeof(fila));\n",
    "    corrente->proximo = NULL;\n",
    "    corrente->anterior = NULL;\n",
    "\n",
    "    printf(\"RA: \");\n",
    "    scanf(\"%i\", &corrente->RA);\n",
    "    \n",
    "    printf(\"Nome: \");\n",
    "    scanf(\"%s\", &corrente->nome);\n",
    "\n",
    "    if(inicio == NULL)\n",
    "    {\n",
    "        inicio = corrente;\n",
    "    }\n",
    "    else\n",
    "    {\n",
    "        fim->anterior = corrente;\n",
    "        corrente->proximo = fim;\n",
    "    }\n",
    "    c++;\n",
    "    fim = corrente;\n",
    "}"
   ]
  },
  {
   "cell_type": "code",
   "execution_count": 92,
   "id": "4403dacc",
   "metadata": {},
   "outputs": [
    {
     "name": "stdout",
     "output_type": "stream",
     "text": [
      "Appending to c_fila_main.c\n"
     ]
    }
   ],
   "source": [
    "%%file -a {NOME}\n",
    "\n",
    "void dequeue()\n",
    "{\n",
    "    if(inicio == NULL)\n",
    "    {\n",
    "        return;\n",
    "    }\n",
    "\n",
    "    printf(\"RA removido: %i \", inicio->RA);\n",
    "    \n",
    "    if(inicio == fim)\n",
    "    {\n",
    "        free(inicio);\n",
    "        inicio = NULL;\n",
    "        auxiliar = NULL;\n",
    "        fim = NULL;\n",
    "    }\n",
    "    else\n",
    "    {\n",
    "        auxiliar = inicio->anterior;\n",
    "        free(inicio);\n",
    "        inicio = auxiliar;\n",
    "    }\n",
    "    \n",
    "    c--;\n",
    "}"
   ]
  },
  {
   "cell_type": "code",
   "execution_count": 93,
   "id": "5db8588c",
   "metadata": {},
   "outputs": [
    {
     "name": "stdout",
     "output_type": "stream",
     "text": [
      "Appending to c_fila_main.c\n"
     ]
    }
   ],
   "source": [
    "%%file -a {NOME}\n",
    "\n",
    "void seaqueue()\n",
    "{\n",
    "    if(inicio == NULL)\n",
    "    {\n",
    "        return;\n",
    "    }\n",
    "\n",
    "    char nome[20];\n",
    "    int i = 1;\n",
    "\n",
    "    printf(\"Nome: \");\n",
    "    scanf(\"%s\", &nome);\n",
    "\n",
    "    auxiliar = inicio;\n",
    "    while(auxiliar != NULL)\n",
    "    {\n",
    "        if(strcmp(auxiliar->nome, nome) == 0)\n",
    "        {\n",
    "            printf(\"Posicao %i\", i);\n",
    "            break;\n",
    "        }\n",
    "        auxiliar = auxiliar->anterior;\n",
    "        i++;\n",
    "    }\n",
    "    \n",
    "    if(auxiliar == NULL)\n",
    "    {\n",
    "        printf(\"Nao encontrado\");\n",
    "    }\n",
    "}"
   ]
  },
  {
   "cell_type": "code",
   "execution_count": 94,
   "id": "9dff6ced",
   "metadata": {},
   "outputs": [
    {
     "name": "stdout",
     "output_type": "stream",
     "text": [
      "Appending to c_fila_main.c\n"
     ]
    }
   ],
   "source": [
    "%%file -a {NOME}\n",
    "\n",
    "int main()\n",
    "{   \n",
    "    int opc;\n",
    "\n",
    "    do\n",
    "    {\n",
    "        system(\"pause\");\n",
    "        system(\"cls\");\n",
    "\n",
    "        printf(\"Enqueue  [1]\\n\");\n",
    "        printf(\"Dequeue  [2]\\n\");\n",
    "        printf(\"Seaqueue [3]\\n\");\n",
    "        printf(\"Opcao -   \");\n",
    "        scanf(\"%i\", &opc);\n",
    "\n",
    "        switch(opc)\n",
    "        {\n",
    "            case 1:\n",
    "                enqueue();\n",
    "                break;\n",
    "            case 2:\n",
    "                dequeue();\n",
    "                break;\n",
    "            case 3:\n",
    "                seaqueue();\n",
    "                break;\n",
    "            case 4:\n",
    "                return 0;\n",
    "            default:\n",
    "                printf(\"Opcao invalida\");\n",
    "        }\n",
    "    }\n",
    "    while(opc != 4);\n",
    "\n",
    "    return 0;\n",
    "}"
   ]
  },
  {
   "cell_type": "code",
   "execution_count": 95,
   "id": "fade8b99",
   "metadata": {},
   "outputs": [
    {
     "name": "stdout",
     "output_type": "stream",
     "text": [
      "Microsoft Windows [vers�o 10.0.26100.4061]\n",
      "(c) Microsoft Corporation. Todos os direitos reservados.\n",
      "\n",
      "(C:\\Users\\Rafa\\anaconda3) c:\\Users\\Rafa\\Desktop\\Estudos\\Fatec\\3� semestre\\estrutura de dados\\P2\\fila>gcc c_fila_main.c -g -o c_fila_main\n"
     ]
    },
    {
     "name": "stdout",
     "output_type": "stream",
     "text": [
      "\n",
      "(C:\\Users\\Rafa\\anaconda3) c:\\Users\\Rafa\\Desktop\\Estudos\\Fatec\\3� semestre\\estrutura de dados\\P2\\fila>"
     ]
    }
   ],
   "source": [
    "%%cmd\n",
    "gcc c_fila_main.c -g -o c_fila_main"
   ]
  }
 ],
 "metadata": {
  "kernelspec": {
   "display_name": "Python 3",
   "language": "python",
   "name": "python3"
  },
  "language_info": {
   "codemirror_mode": {
    "name": "ipython",
    "version": 3
   },
   "file_extension": ".py",
   "mimetype": "text/x-python",
   "name": "python",
   "nbconvert_exporter": "python",
   "pygments_lexer": "ipython3",
   "version": "3.12.7"
  }
 },
 "nbformat": 4,
 "nbformat_minor": 5
}
